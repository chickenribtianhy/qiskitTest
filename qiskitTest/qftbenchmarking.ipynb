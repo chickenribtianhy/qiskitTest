{
 "cells": [
  {
   "cell_type": "code",
   "execution_count": 9,
   "metadata": {},
   "outputs": [
    {
     "name": "stdout",
     "output_type": "stream",
     "text": [
      "The autoreload extension is already loaded. To reload it, use:\n",
      "  %reload_ext autoreload\n"
     ]
    }
   ],
   "source": [
    "from qftbenchmark import benchmark_qft\n",
    "\n",
    "%load_ext autoreload\n",
    "%autoreload 2"
   ]
  },
  {
   "cell_type": "code",
   "execution_count": 10,
   "metadata": {},
   "outputs": [
    {
     "name": "stdout",
     "output_type": "stream",
     "text": [
      "QFT with 18 qubits took 0.05 seconds\n",
      "Max GPU Memory Used: 0.00 MiB\n",
      "QFT with 19 qubits took 0.04 seconds\n",
      "Max GPU Memory Used: 0.00 MiB\n",
      "QFT with 20 qubits took 0.06 seconds\n",
      "Max GPU Memory Used: 0.00 MiB\n",
      "QFT with 21 qubits took 0.07 seconds\n",
      "Max GPU Memory Used: 0.00 MiB\n",
      "QFT with 22 qubits took 0.09 seconds\n",
      "Max GPU Memory Used: 66.00 MiB\n",
      "QFT with 23 qubits took 0.08 seconds\n",
      "Max GPU Memory Used: 2.00 MiB\n",
      "QFT with 24 qubits took 0.10 seconds\n",
      "Max GPU Memory Used: 258.00 MiB\n",
      "QFT with 25 qubits took 0.13 seconds\n",
      "Max GPU Memory Used: 518.00 MiB\n",
      "QFT with 26 qubits took 0.21 seconds\n",
      "Max GPU Memory Used: 1032.00 MiB\n",
      "QFT with 27 qubits took 0.41 seconds\n",
      "Max GPU Memory Used: 2064.00 MiB\n",
      "QFT with 28 qubits took 0.78 seconds\n",
      "Max GPU Memory Used: 4126.00 MiB\n",
      "Max GPU Memory Used: 0.00 MiB\n",
      "QFT with 29 qubits took 1.65 seconds\n",
      "QFT with 29 qubits took 1.65 seconds\n",
      "Max GPU Memory Used: 0.00 MiB\n",
      "QFT with 30 qubits took 3.39 seconds\n",
      "QFT with 30 qubits took 3.39 seconds\n",
      "Max GPU Memory Used: 0.00 MiB\n",
      "QFT with 31 qubits took 7.14 seconds\n",
      "QFT with 31 qubits took 7.14 seconds\n",
      "Max GPU Memory Used: 0.00 MiB\n",
      "QFT with 32 qubits took 15.86 seconds\n"
     ]
    }
   ],
   "source": [
    "timeout = 1\n",
    "for n in range(18, 33):\n",
    "    if n > 27:\n",
    "        time_out = 17\n",
    "    benchmark_qft(num_qubits=n, timeout=timeout)"
   ]
  },
  {
   "cell_type": "code",
   "execution_count": null,
   "metadata": {},
   "outputs": [],
   "source": []
  }
 ],
 "metadata": {
  "kernelspec": {
   "display_name": "qiskit",
   "language": "python",
   "name": "python3"
  },
  "language_info": {
   "codemirror_mode": {
    "name": "ipython",
    "version": 3
   },
   "file_extension": ".py",
   "mimetype": "text/x-python",
   "name": "python",
   "nbconvert_exporter": "python",
   "pygments_lexer": "ipython3",
   "version": "3.12.4"
  }
 },
 "nbformat": 4,
 "nbformat_minor": 2
}
